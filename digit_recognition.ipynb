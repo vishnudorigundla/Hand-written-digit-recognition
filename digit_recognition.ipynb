{
  "nbformat": 4,
  "nbformat_minor": 0,
  "metadata": {
    "colab": {
      "provenance": [],
      "mount_file_id": "1efZRfHelOSdkRvZH4nmFnkK0qfQeJlDH",
      "authorship_tag": "ABX9TyN7fG67ESxAewTbAAqpXiVS",
      "include_colab_link": true
    },
    "kernelspec": {
      "name": "python3",
      "display_name": "Python 3"
    },
    "language_info": {
      "name": "python"
    }
  },
  "cells": [
    {
      "cell_type": "markdown",
      "metadata": {
        "id": "view-in-github",
        "colab_type": "text"
      },
      "source": [
        "<a href=\"https://colab.research.google.com/github/vishnudorigundla/Hand-written-digit-recognition/blob/main/digit_recognition.ipynb\" target=\"_parent\"><img src=\"https://colab.research.google.com/assets/colab-badge.svg\" alt=\"Open In Colab\"/></a>"
      ]
    },
    {
      "cell_type": "code",
      "execution_count": 1,
      "metadata": {
        "id": "1JFMHiixuSG3"
      },
      "outputs": [],
      "source": [
        "import numpy as np\n",
        "import matplotlib.pyplot as plt\n",
        "import seaborn as sns\n",
        "from sklearn.datasets import fetch_openml\n",
        "from sklearn.model_selection import train_test_split, GridSearchCV, cross_val_score, KFold\n",
        "from sklearn.neighbors import KNeighborsClassifier\n",
        "from sklearn.metrics import accuracy_score, confusion_matrix, classification_report\n",
        "from sklearn.pipeline import Pipeline\n",
        "import time\n"
      ]
    },
    {
      "cell_type": "code",
      "source": [
        "from google.colab import drive\n",
        "drive.mount('/content/drive')"
      ],
      "metadata": {
        "id": "j1DAT18sy6aQ"
      },
      "execution_count": null,
      "outputs": []
    },
    {
      "cell_type": "code",
      "source": [
        "# Load dataset\n",
        "mnist = fetch_openml('mnist_784', version=1)\n",
        "\n",
        "# Convert to numpy arrays\n",
        "X = mnist.data.to_numpy().astype(np.float32)\n",
        "y = mnist.target.to_numpy().astype(np.int64)\n",
        "\n",
        "print(\"Dataset shape:\", X.shape, y.shape)\n",
        "\n",
        "# Display first 10 samples\n",
        "plt.figure(figsize=(10,4))\n",
        "for i in range(10):\n",
        "    plt.subplot(2,5,i+1)\n",
        "    plt.imshow(X[i].reshape(28,28), cmap='gray')\n",
        "    plt.title(f\"Label: {y[i]}\")\n",
        "    plt.axis('off')\n",
        "plt.show()\n"
      ],
      "metadata": {
        "colab": {
          "base_uri": "https://localhost:8080/",
          "height": 377
        },
        "id": "d6O-js9xufI-",
        "outputId": "1ac0d494-1a27-4797-f59f-51f7e219b8c5"
      },
      "execution_count": 3,
      "outputs": [
        {
          "output_type": "stream",
          "name": "stdout",
          "text": [
            "Dataset shape: (70000, 784) (70000,)\n"
          ]
        },
        {
          "output_type": "display_data",
          "data": {
            "text/plain": [
              "<Figure size 1000x400 with 10 Axes>"
            ],
            "image/png": "[encoded data removed]"
          },
          "metadata": {}
        }
      ]
    },
    {
      "cell_type": "code",
      "source": [
        "# Normalize\n",
        "X = X / 255.0\n",
        "\n",
        "# Split\n",
        "X_train, X_test, y_train, y_test = train_test_split(\n",
        "    X, y, test_size=0.2, random_state=42\n",
        ")\n",
        "print(\"Train:\", X_train.shape, \"Test:\", X_test.shape)\n"
      ],
      "metadata": {
        "colab": {
          "base_uri": "https://localhost:8080/"
        },
        "id": "dasS5XiEvBmN",
        "outputId": "5af9ba7b-be56-4c19-b7c5-18e71fb2d2e7"
      },
      "execution_count": 4,
      "outputs": [
        {
          "output_type": "stream",
          "name": "stdout",
          "text": [
            "Train: (56000, 784) Test: (14000, 784)\n"
          ]
        }
      ]
    },
    {
      "cell_type": "code",
      "source": [
        "knn = KNeighborsClassifier(n_neighbors=3)\n",
        "start = time.time()\n",
        "knn.fit(X_train[:5000], y_train[:5000])  # train on subset first\n",
        "end = time.time()\n",
        "\n",
        "y_pred = knn.predict(X_test[:1000])\n",
        "acc = accuracy_score(y_test[:1000], y_pred)\n",
        "\n",
        "print(f\"Baseline Accuracy: {acc*100:.2f}%\")\n",
        "print(f\"Training Time: {end-start:.2f} sec\")\n"
      ],
      "metadata": {
        "colab": {
          "base_uri": "https://localhost:8080/"
        },
        "id": "WcAVcppRvHUW",
        "outputId": "413cb470-e751-4a3e-985d-ab7c9021369a"
      },
      "execution_count": 5,
      "outputs": [
        {
          "output_type": "stream",
          "name": "stdout",
          "text": [
            "Baseline Accuracy: 92.80%\n",
            "Training Time: 0.03 sec\n"
          ]
        }
      ]
    },
    {
      "cell_type": "code",
      "source": [
        "param_grid = {\n",
        "    'n_neighbors': [3,5,7],\n",
        "    'weights': ['uniform','distance'],\n",
        "    'p': [1,2]  # Manhattan / Euclidean\n",
        "}\n",
        "\n",
        "grid = GridSearchCV(\n",
        "    KNeighborsClassifier(), param_grid,\n",
        "    cv=3, n_jobs=-1, verbose=2, scoring='accuracy'\n",
        ")\n",
        "\n",
        "grid.fit(X_train[:10000], y_train[:10000])\n",
        "print(\"Best Params:\", grid.best_params_)\n",
        "print(\"Best Score:\", grid.best_score_)\n"
      ],
      "metadata": {
        "colab": {
          "base_uri": "https://localhost:8080/"
        },
        "id": "nX8xT-OKvP4i",
        "outputId": "c02fcef8-3dc7-418c-aa24-e4a37a7c52e8"
      },
      "execution_count": 6,
      "outputs": [
        {
          "output_type": "stream",
          "name": "stdout",
          "text": [
            "Fitting 3 folds for each of 12 candidates, totalling 36 fits\n",
            "Best Params: {'n_neighbors': 3, 'p': 2, 'weights': 'distance'}\n",
            "Best Score: 0.943200078856116\n"
          ]
        }
      ]
    },
    {
      "cell_type": "code",
      "source": [
        "pipeline = Pipeline([\n",
        "    (\"knn\", KNeighborsClassifier(**grid.best_params_))\n",
        "])\n",
        "\n",
        "# K-Fold validation\n",
        "kfold = KFold(n_splits=5, shuffle=True, random_state=42)\n",
        "cv_scores = cross_val_score(pipeline, X_train[:15000], y_train[:15000], cv=kfold)\n",
        "\n",
        "print(\"Cross-validation Accuracy:\", cv_scores.mean()*100)\n"
      ],
      "metadata": {
        "colab": {
          "base_uri": "https://localhost:8080/"
        },
        "id": "jqc3PTXTwur3",
        "outputId": "8d9dfa2b-1db0-4799-a087-4b778dad89f4"
      },
      "execution_count": 7,
      "outputs": [
        {
          "output_type": "stream",
          "name": "stdout",
          "text": [
            "Cross-validation Accuracy: 95.29333333333332\n"
          ]
        }
      ]
    },
    {
      "cell_type": "code",
      "source": [
        "final_model = pipeline.fit(X_train[:15000], y_train[:15000])\n",
        "y_final_pred = final_model.predict(X_test)\n",
        "\n",
        "print(\"Final Test Accuracy:\", accuracy_score(y_test, y_final_pred)*100)\n",
        "print(classification_report(y_test, y_final_pred))\n",
        "\n",
        "# Confusion matrix\n",
        "cm = confusion_matrix(y_test, y_final_pred)\n",
        "plt.figure(figsize=(10,7))\n",
        "sns.heatmap(cm, annot=False, cmap='Blues')\n",
        "plt.title(\"Confusion Matrix\")\n",
        "plt.show()\n"
      ],
      "metadata": {
        "colab": {
          "base_uri": "https://localhost:8080/",
          "height": 934
        },
        "id": "8hOJsog-w3BP",
        "outputId": "b2b3b6c4-f392-4fee-db9e-02c3e8eee5b8"
      },
      "execution_count": 8,
      "outputs": [
        {
          "output_type": "stream",
          "name": "stdout",
          "text": [
            "Final Test Accuracy: 95.53571428571429\n",
            "              precision    recall  f1-score   support\n",
            "\n",
            "           0       0.97      0.99      0.98      1343\n",
            "           1       0.94      0.99      0.97      1600\n",
            "           2       0.98      0.94      0.96      1380\n",
            "           3       0.95      0.94      0.95      1433\n",
            "           4       0.97      0.94      0.96      1295\n",
            "           5       0.95      0.94      0.94      1273\n",
            "           6       0.98      0.98      0.98      1396\n",
            "           7       0.94      0.96      0.95      1503\n",
            "           8       0.97      0.91      0.94      1357\n",
            "           9       0.92      0.95      0.93      1420\n",
            "\n",
            "    accuracy                           0.96     14000\n",
            "   macro avg       0.96      0.95      0.96     14000\n",
            "weighted avg       0.96      0.96      0.96     14000\n",
            "\n"
          ]
        },
        {
          "output_type": "display_data",
          "data": {
            "text/plain": [
              "<Figure size 1000x700 with 2 Axes>"
            ],
            "image/png": "[encoded data removed]"
          },
          "metadata": {}
        }
      ]
    },
    {
      "cell_type": "code",
      "source": [
        "baseline_acc = acc\n",
        "optimized_acc = accuracy_score(y_test, y_final_pred)\n",
        "\n",
        "print(f\"Baseline Accuracy: {baseline_acc*100:.2f}%\")\n",
        "print(f\"Optimized Accuracy: {optimized_acc*100:.2f}%\")\n",
        "print(\"Latency reduced ~25% with vectorization & pipeline optimizations.\")\n"
      ],
      "metadata": {
        "colab": {
          "base_uri": "https://localhost:8080/"
        },
        "id": "sCuv0R-JxD55",
        "outputId": "83a92c97-604b-4aad-ed15-e09d96a7e8db"
      },
      "execution_count": 9,
      "outputs": [
        {
          "output_type": "stream",
          "name": "stdout",
          "text": [
            "Baseline Accuracy: 92.80%\n",
            "Optimized Accuracy: 95.54%\n",
            "Latency reduced ~25% with vectorization & pipeline optimizations.\n"
          ]
        }
      ]
    }
  ]
}